{
 "cells": [
  {
   "cell_type": "code",
   "execution_count": null,
   "id": "97b75b08",
   "metadata": {},
   "outputs": [],
   "source": [
    "import tensorflow as tf\n",
    "from tensorflow.keras.preprocessing.text import Tokenizer\n",
    "from tensorflow.keras.layers import Embedding, LSTM, Dense\n",
    "from tensorflow.keras.models import Sequential\n",
    "from tensorflow.keras.utils import to_categorical\n",
    "from tensorflow.keras.optimizers import Adam\n",
    "import pickle\n",
    "import numpy as np \n",
    "import os"
   ]
  },
  {
   "cell_type": "code",
   "execution_count": null,
   "id": "9a8e7e50",
   "metadata": {},
   "outputs": [],
   "source": [
    "content= open (\"NEXT WORD DATASET.txt\",\"r\", encoding=\"utf8\")"
   ]
  },
  {
   "cell_type": "code",
   "execution_count": 6,
   "id": "5af152a2",
   "metadata": {},
   "outputs": [
    {
     "data": {
      "text/plain": [
       "\"Project Gutenberg's The Adventures of Sherlock Holmes, by Arthur Conan DoyleThis eBook is for the use of anyone anywhere at no cost and withalmost no restrictions whatsoever. You may copy it, give it away orre-use it under the terms of the Project Gutenberg License includedwith this eBook or online at www.gutenberg.netTitle: The Adventures of Sherlock HolmesAuthor: Arthur Conan DoyleRelease Date: November 29, 2002 [EBook #1661]Last Updated: May 20, 2019Language: EnglishCharacter set encoding: UT\""
      ]
     },
     "execution_count": 6,
     "metadata": {},
     "output_type": "execute_result"
    }
   ],
   "source": [
    "#storing the text file in a list\n",
    "\n",
    "lines = []\n",
    "for i in content:\n",
    "    lines.append(i)\n",
    "    \n",
    "#converting list to string\n",
    "\n",
    "data = \"\"\n",
    "for i in lines:\n",
    "    data= ''.join(lines)\n",
    "    \n",
    "    \n",
    "#replace unnecessary stuffs with spaces \n",
    "data = data.replace('\\n', '').replace('\\r','').replace('\\ufeff','').replace('“','').replace('”','').replace('*','')\n",
    "\n",
    "#remove unnecessary spaces\n",
    "data = data.split()\n",
    "data = ' '.join(data) \n",
    "data[:500]"
   ]
  },
  {
   "cell_type": "code",
   "execution_count": 7,
   "id": "bb1373d7",
   "metadata": {},
   "outputs": [
    {
     "data": {
      "text/plain": [
       "567092"
      ]
     },
     "execution_count": 7,
     "metadata": {},
     "output_type": "execute_result"
    }
   ],
   "source": [
    "len(data)"
   ]
  },
  {
   "cell_type": "code",
   "execution_count": 8,
   "id": "00c82a7d",
   "metadata": {},
   "outputs": [
    {
     "data": {
      "text/plain": [
       "[159, 4872, 1, 963, 5, 124, 32, 45, 554, 2015, 4873, 1042, 13, 21, 1]"
      ]
     },
     "execution_count": 8,
     "metadata": {},
     "output_type": "execute_result"
    }
   ],
   "source": [
    "tokenizer = Tokenizer()\n",
    "tokenizer.fit_on_texts([data])\n",
    "\n",
    "#Saving the tokenizer for predict function\n",
    "pickle.dump(tokenizer, open('token.pkl','wb'))\n",
    "\n",
    "sequence_data = tokenizer.texts_to_sequences([data])[0]\n",
    "sequence_data[:15]"
   ]
  },
  {
   "cell_type": "code",
   "execution_count": 9,
   "id": "e75a6071",
   "metadata": {},
   "outputs": [
    {
     "data": {
      "text/plain": [
       "103104"
      ]
     },
     "execution_count": 9,
     "metadata": {},
     "output_type": "execute_result"
    }
   ],
   "source": [
    "len(sequence_data)"
   ]
  },
  {
   "cell_type": "code",
   "execution_count": 10,
   "id": "9245d538",
   "metadata": {},
   "outputs": [
    {
     "name": "stdout",
     "output_type": "stream",
     "text": [
      "13188\n"
     ]
    }
   ],
   "source": [
    "vocab_size = len(tokenizer.word_index) + 1\n",
    "print(vocab_size)"
   ]
  },
  {
   "cell_type": "code",
   "execution_count": 11,
   "id": "796c22bf",
   "metadata": {},
   "outputs": [
    {
     "name": "stdout",
     "output_type": "stream",
     "text": [
      "The length of sequences are:  103101\n"
     ]
    },
    {
     "data": {
      "text/plain": [
       "array([[ 159, 4872,    1,  963],\n",
       "       [4872,    1,  963,    5],\n",
       "       [   1,  963,    5,  124],\n",
       "       [ 963,    5,  124,   32],\n",
       "       [   5,  124,   32,   45],\n",
       "       [ 124,   32,   45,  554],\n",
       "       [  32,   45,  554, 2015],\n",
       "       [  45,  554, 2015, 4873],\n",
       "       [ 554, 2015, 4873, 1042],\n",
       "       [2015, 4873, 1042,   13]])"
      ]
     },
     "execution_count": 11,
     "metadata": {},
     "output_type": "execute_result"
    }
   ],
   "source": [
    "sequences=[]\n",
    "\n",
    "for i in range(3, len(sequence_data)):\n",
    "    words = sequence_data[i-3:i+1]\n",
    "    sequences.append(words)\n",
    "    \n",
    "print(\"The length of sequences are: \",len(sequences))\n",
    "sequences = np.array(sequences)\n",
    "sequences[:10]"
   ]
  },
  {
   "cell_type": "code",
   "execution_count": 13,
   "id": "11d19766",
   "metadata": {},
   "outputs": [],
   "source": [
    "X= []\n",
    "y= []\n",
    "\n",
    "for i in sequences:\n",
    "    X.append(i[0:3])\n",
    "    y.append(i[3])\n",
    "    \n",
    "X=np.array(X)\n",
    "y=np.array(y)"
   ]
  },
  {
   "cell_type": "code",
   "execution_count": 14,
   "id": "b02ea029",
   "metadata": {},
   "outputs": [
    {
     "name": "stdout",
     "output_type": "stream",
     "text": [
      "Data:  [[ 159 4872    1]\n",
      " [4872    1  963]\n",
      " [   1  963    5]\n",
      " [ 963    5  124]\n",
      " [   5  124   32]\n",
      " [ 124   32   45]\n",
      " [  32   45  554]\n",
      " [  45  554 2015]\n",
      " [ 554 2015 4873]\n",
      " [2015 4873 1042]]\n",
      "Response:  [ 963    5  124   32   45  554 2015 4873 1042   13]\n"
     ]
    }
   ],
   "source": [
    "print(\"Data: \",X[:10])\n",
    "print(\"Response: \",y[:10])"
   ]
  },
  {
   "cell_type": "code",
   "execution_count": 15,
   "id": "3962f51d",
   "metadata": {},
   "outputs": [
    {
     "data": {
      "text/plain": [
       "array([[0., 0., 0., ..., 0., 0., 0.],\n",
       "       [0., 0., 0., ..., 0., 0., 0.],\n",
       "       [0., 0., 0., ..., 0., 0., 0.],\n",
       "       [0., 0., 0., ..., 0., 0., 0.],\n",
       "       [0., 0., 0., ..., 0., 0., 0.]], dtype=float32)"
      ]
     },
     "execution_count": 15,
     "metadata": {},
     "output_type": "execute_result"
    }
   ],
   "source": [
    "y = to_categorical(y, num_classes=vocab_size)\n",
    "y[:5]"
   ]
  },
  {
   "cell_type": "code",
   "execution_count": 16,
   "id": "c18cee0d",
   "metadata": {},
   "outputs": [],
   "source": [
    "model = Sequential()\n",
    "model.add(Embedding(vocab_size, 10, input_length=3))\n",
    "model.add(LSTM(1000, return_sequences = True))\n",
    "model.add(LSTM(1000))\n",
    "model.add(Dense(1000, activation = \"relu\"))\n",
    "model.add(Dense(vocab_size, activation = \"softmax\"))"
   ]
  },
  {
   "cell_type": "code",
   "execution_count": 13,
   "id": "6e26e25c",
   "metadata": {},
   "outputs": [
    {
     "name": "stdout",
     "output_type": "stream",
     "text": [
      "Model: \"sequential\"\n",
      "_________________________________________________________________\n",
      " Layer (type)                Output Shape              Param #   \n",
      "=================================================================\n",
      " embedding (Embedding)       (None, 3, 10)             131880    \n",
      "                                                                 \n",
      " lstm (LSTM)                 (None, 3, 1000)           4044000   \n",
      "                                                                 \n",
      " lstm_1 (LSTM)               (None, 1000)              8004000   \n",
      "                                                                 \n",
      " dense (Dense)               (None, 1000)              1001000   \n",
      "                                                                 \n",
      " dense_1 (Dense)             (None, 13188)             13201188  \n",
      "                                                                 \n",
      "=================================================================\n",
      "Total params: 26382068 (100.64 MB)\n",
      "Trainable params: 26382068 (100.64 MB)\n",
      "Non-trainable params: 0 (0.00 Byte)\n",
      "_________________________________________________________________\n"
     ]
    }
   ],
   "source": [
    "model.summary()"
   ]
  },
  {
   "cell_type": "code",
   "execution_count": null,
   "id": "bae173e1",
   "metadata": {},
   "outputs": [
    {
     "name": "stdout",
     "output_type": "stream",
     "text": [
      "Epoch 1/70\n",
      "1611/1611 [==============================] - ETA: 0s - loss: 6.8720 - accuracy: 0.0518\n",
      "Epoch 1: loss improved from inf to 6.87204, saving model to next_words.h5\n"
     ]
    },
    {
     "name": "stderr",
     "output_type": "stream",
     "text": [
      "D:\\Anaconda\\Lib\\site-packages\\keras\\src\\engine\\training.py:3000: UserWarning: You are saving your model as an HDF5 file via `model.save()`. This file format is considered legacy. We recommend using instead the native Keras format, e.g. `model.save('my_model.keras')`.\n",
      "  saving_api.save_model(\n"
     ]
    },
    {
     "name": "stdout",
     "output_type": "stream",
     "text": [
      "1611/1611 [==============================] - 802s 495ms/step - loss: 6.8720 - accuracy: 0.0518\n",
      "Epoch 2/70\n",
      "1611/1611 [==============================] - ETA: 0s - loss: 6.3544 - accuracy: 0.0798\n",
      "Epoch 2: loss improved from 6.87204 to 6.35439, saving model to next_words.h5\n",
      "1611/1611 [==============================] - 771s 478ms/step - loss: 6.3544 - accuracy: 0.0798\n",
      "Epoch 3/70\n",
      "1611/1611 [==============================] - ETA: 0s - loss: 5.9695 - accuracy: 0.0999\n",
      "Epoch 3: loss improved from 6.35439 to 5.96949, saving model to next_words.h5\n",
      "1611/1611 [==============================] - 757s 470ms/step - loss: 5.9695 - accuracy: 0.0999\n",
      "Epoch 4/70\n",
      "1611/1611 [==============================] - ETA: 0s - loss: 5.6787 - accuracy: 0.1162\n",
      "Epoch 4: loss improved from 5.96949 to 5.67866, saving model to next_words.h5\n",
      "1611/1611 [==============================] - 778s 483ms/step - loss: 5.6787 - accuracy: 0.1162\n",
      "Epoch 5/70\n",
      "1611/1611 [==============================] - ETA: 0s - loss: 5.4244 - accuracy: 0.1281\n",
      "Epoch 5: loss improved from 5.67866 to 5.42441, saving model to next_words.h5\n",
      "1611/1611 [==============================] - 786s 488ms/step - loss: 5.4244 - accuracy: 0.1281\n",
      "Epoch 6/70\n",
      "1611/1611 [==============================] - ETA: 0s - loss: 5.1814 - accuracy: 0.1408\n",
      "Epoch 6: loss improved from 5.42441 to 5.18141, saving model to next_words.h5\n",
      "1611/1611 [==============================] - 776s 482ms/step - loss: 5.1814 - accuracy: 0.1408\n",
      "Epoch 7/70\n",
      "1611/1611 [==============================] - ETA: 0s - loss: 4.9447 - accuracy: 0.1548\n",
      "Epoch 7: loss improved from 5.18141 to 4.94473, saving model to next_words.h5\n",
      "1611/1611 [==============================] - 846s 525ms/step - loss: 4.9447 - accuracy: 0.1548\n",
      "Epoch 8/70\n",
      "1611/1611 [==============================] - ETA: 0s - loss: 4.7134 - accuracy: 0.1674\n",
      "Epoch 8: loss improved from 4.94473 to 4.71342, saving model to next_words.h5\n",
      "1611/1611 [==============================] - 800s 497ms/step - loss: 4.7134 - accuracy: 0.1674\n",
      "Epoch 9/70\n",
      "1611/1611 [==============================] - ETA: 0s - loss: 4.4749 - accuracy: 0.1806\n",
      "Epoch 9: loss improved from 4.71342 to 4.47486, saving model to next_words.h5\n",
      "1611/1611 [==============================] - 776s 482ms/step - loss: 4.4749 - accuracy: 0.1806\n",
      "Epoch 10/70\n",
      "1611/1611 [==============================] - ETA: 0s - loss: 4.2268 - accuracy: 0.1944\n",
      "Epoch 10: loss improved from 4.47486 to 4.22682, saving model to next_words.h5\n",
      "1611/1611 [==============================] - 789s 490ms/step - loss: 4.2268 - accuracy: 0.1944\n",
      "Epoch 11/70\n",
      "1611/1611 [==============================] - ETA: 0s - loss: 3.9698 - accuracy: 0.2134\n",
      "Epoch 11: loss improved from 4.22682 to 3.96983, saving model to next_words.h5\n",
      "1611/1611 [==============================] - 841s 522ms/step - loss: 3.9698 - accuracy: 0.2134\n",
      "Epoch 12/70\n",
      "1611/1611 [==============================] - ETA: 0s - loss: 3.7063 - accuracy: 0.2379\n",
      "Epoch 12: loss improved from 3.96983 to 3.70628, saving model to next_words.h5\n",
      "1611/1611 [==============================] - 809s 502ms/step - loss: 3.7063 - accuracy: 0.2379\n",
      "Epoch 13/70\n",
      "1611/1611 [==============================] - ETA: 0s - loss: 3.4412 - accuracy: 0.2712\n",
      "Epoch 13: loss improved from 3.70628 to 3.44118, saving model to next_words.h5\n",
      "1611/1611 [==============================] - 815s 506ms/step - loss: 3.4412 - accuracy: 0.2712\n",
      "Epoch 14/70\n",
      "1611/1611 [==============================] - ETA: 0s - loss: 3.1915 - accuracy: 0.3083\n",
      "Epoch 14: loss improved from 3.44118 to 3.19149, saving model to next_words.h5\n",
      "1611/1611 [==============================] - 795s 494ms/step - loss: 3.1915 - accuracy: 0.3083\n",
      "Epoch 15/70\n",
      "1611/1611 [==============================] - ETA: 0s - loss: 2.9497 - accuracy: 0.3460\n",
      "Epoch 15: loss improved from 3.19149 to 2.94971, saving model to next_words.h5\n",
      "1611/1611 [==============================] - 765s 475ms/step - loss: 2.9497 - accuracy: 0.3460\n",
      "Epoch 16/70\n",
      "1611/1611 [==============================] - ETA: 0s - loss: 2.7255 - accuracy: 0.3828\n",
      "Epoch 16: loss improved from 2.94971 to 2.72552, saving model to next_words.h5\n",
      "1611/1611 [==============================] - 760s 472ms/step - loss: 2.7255 - accuracy: 0.3828\n",
      "Epoch 17/70\n",
      "1611/1611 [==============================] - ETA: 0s - loss: 2.5144 - accuracy: 0.4206\n",
      "Epoch 17: loss improved from 2.72552 to 2.51441, saving model to next_words.h5\n",
      "1611/1611 [==============================] - 755s 469ms/step - loss: 2.5144 - accuracy: 0.4206\n",
      "Epoch 18/70\n",
      "1611/1611 [==============================] - ETA: 0s - loss: 2.3131 - accuracy: 0.4557\n",
      "Epoch 18: loss improved from 2.51441 to 2.31312, saving model to next_words.h5\n",
      "1611/1611 [==============================] - 753s 467ms/step - loss: 2.3131 - accuracy: 0.4557\n",
      "Epoch 19/70\n",
      "1611/1611 [==============================] - ETA: 0s - loss: 2.1135 - accuracy: 0.4939\n",
      "Epoch 19: loss improved from 2.31312 to 2.11347, saving model to next_words.h5\n",
      "1611/1611 [==============================] - 753s 467ms/step - loss: 2.1135 - accuracy: 0.4939\n",
      "Epoch 20/70\n",
      "1611/1611 [==============================] - ETA: 0s - loss: 1.9273 - accuracy: 0.5294\n",
      "Epoch 20: loss improved from 2.11347 to 1.92725, saving model to next_words.h5\n",
      "1611/1611 [==============================] - 753s 467ms/step - loss: 1.9273 - accuracy: 0.5294\n",
      "Epoch 21/70\n",
      "1611/1611 [==============================] - ETA: 0s - loss: 1.7464 - accuracy: 0.5672\n",
      "Epoch 21: loss improved from 1.92725 to 1.74640, saving model to next_words.h5\n",
      "1611/1611 [==============================] - 751s 466ms/step - loss: 1.7464 - accuracy: 0.5672\n",
      "Epoch 22/70\n",
      "1611/1611 [==============================] - ETA: 0s - loss: 1.5823 - accuracy: 0.6008\n",
      "Epoch 22: loss improved from 1.74640 to 1.58229, saving model to next_words.h5\n",
      "1611/1611 [==============================] - 768s 476ms/step - loss: 1.5823 - accuracy: 0.6008\n",
      "Epoch 23/70\n",
      "1611/1611 [==============================] - ETA: 0s - loss: 1.4245 - accuracy: 0.6357\n",
      "Epoch 23: loss improved from 1.58229 to 1.42451, saving model to next_words.h5\n",
      "1611/1611 [==============================] - 752s 467ms/step - loss: 1.4245 - accuracy: 0.6357\n",
      "Epoch 24/70\n",
      "1611/1611 [==============================] - ETA: 0s - loss: 1.2845 - accuracy: 0.6681\n",
      "Epoch 24: loss improved from 1.42451 to 1.28449, saving model to next_words.h5\n",
      "1611/1611 [==============================] - 752s 467ms/step - loss: 1.2845 - accuracy: 0.6681\n",
      "Epoch 25/70\n",
      "1611/1611 [==============================] - ETA: 0s - loss: 1.1563 - accuracy: 0.6962\n",
      "Epoch 25: loss improved from 1.28449 to 1.15633, saving model to next_words.h5\n",
      "1611/1611 [==============================] - 753s 467ms/step - loss: 1.1563 - accuracy: 0.6962\n",
      "Epoch 26/70\n",
      "1611/1611 [==============================] - ETA: 0s - loss: 1.0519 - accuracy: 0.7225\n",
      "Epoch 26: loss improved from 1.15633 to 1.05194, saving model to next_words.h5\n",
      "1611/1611 [==============================] - 751s 466ms/step - loss: 1.0519 - accuracy: 0.7225\n",
      "Epoch 27/70\n",
      "1611/1611 [==============================] - ETA: 0s - loss: 0.9470 - accuracy: 0.7481\n",
      "Epoch 27: loss improved from 1.05194 to 0.94700, saving model to next_words.h5\n",
      "1611/1611 [==============================] - 766s 475ms/step - loss: 0.9470 - accuracy: 0.7481\n",
      "Epoch 28/70\n",
      "1611/1611 [==============================] - ETA: 0s - loss: 0.8658 - accuracy: 0.7687\n",
      "Epoch 28: loss improved from 0.94700 to 0.86579, saving model to next_words.h5\n",
      "1611/1611 [==============================] - 777s 482ms/step - loss: 0.8658 - accuracy: 0.7687\n",
      "Epoch 29/70\n",
      "1611/1611 [==============================] - ETA: 0s - loss: 0.8050 - accuracy: 0.7847\n",
      "Epoch 29: loss improved from 0.86579 to 0.80499, saving model to next_words.h5\n",
      "1611/1611 [==============================] - 773s 480ms/step - loss: 0.8050 - accuracy: 0.7847\n",
      "Epoch 30/70\n",
      "1611/1611 [==============================] - ETA: 0s - loss: 0.7422 - accuracy: 0.8003\n",
      "Epoch 30: loss improved from 0.80499 to 0.74216, saving model to next_words.h5\n",
      "1611/1611 [==============================] - 753s 467ms/step - loss: 0.7422 - accuracy: 0.8003\n",
      "Epoch 31/70\n",
      "1611/1611 [==============================] - ETA: 0s - loss: 0.6960 - accuracy: 0.8120\n",
      "Epoch 31: loss improved from 0.74216 to 0.69596, saving model to next_words.h5\n",
      "1611/1611 [==============================] - 753s 467ms/step - loss: 0.6960 - accuracy: 0.8120\n"
     ]
    },
    {
     "name": "stdout",
     "output_type": "stream",
     "text": [
      "Epoch 32/70\n",
      "1611/1611 [==============================] - ETA: 0s - loss: 0.6503 - accuracy: 0.8234\n",
      "Epoch 32: loss improved from 0.69596 to 0.65031, saving model to next_words.h5\n",
      "1611/1611 [==============================] - 786s 488ms/step - loss: 0.6503 - accuracy: 0.8234\n",
      "Epoch 33/70\n",
      "1611/1611 [==============================] - ETA: 0s - loss: 0.6199 - accuracy: 0.8305\n",
      "Epoch 33: loss improved from 0.65031 to 0.61992, saving model to next_words.h5\n",
      "1611/1611 [==============================] - 782s 485ms/step - loss: 0.6199 - accuracy: 0.8305\n",
      "Epoch 34/70\n",
      "1611/1611 [==============================] - ETA: 0s - loss: 0.5894 - accuracy: 0.8370\n",
      "Epoch 34: loss improved from 0.61992 to 0.58935, saving model to next_words.h5\n",
      "1611/1611 [==============================] - 786s 488ms/step - loss: 0.5894 - accuracy: 0.8370\n",
      "Epoch 35/70\n",
      "1611/1611 [==============================] - ETA: 0s - loss: 0.5656 - accuracy: 0.8421\n",
      "Epoch 35: loss improved from 0.58935 to 0.56558, saving model to next_words.h5\n",
      "1611/1611 [==============================] - 791s 491ms/step - loss: 0.5656 - accuracy: 0.8421\n",
      "Epoch 36/70\n",
      "1611/1611 [==============================] - ETA: 0s - loss: 0.5487 - accuracy: 0.8449\n",
      "Epoch 36: loss improved from 0.56558 to 0.54868, saving model to next_words.h5\n",
      "1611/1611 [==============================] - 771s 479ms/step - loss: 0.5487 - accuracy: 0.8449\n",
      "Epoch 37/70\n",
      "1611/1611 [==============================] - ETA: 0s - loss: 0.5273 - accuracy: 0.8502\n",
      "Epoch 37: loss improved from 0.54868 to 0.52730, saving model to next_words.h5\n",
      "1611/1611 [==============================] - 762s 473ms/step - loss: 0.5273 - accuracy: 0.8502\n",
      "Epoch 38/70\n",
      "1611/1611 [==============================] - ETA: 0s - loss: 0.5080 - accuracy: 0.8537\n",
      "Epoch 38: loss improved from 0.52730 to 0.50804, saving model to next_words.h5\n",
      "1611/1611 [==============================] - 753s 467ms/step - loss: 0.5080 - accuracy: 0.8537\n",
      "Epoch 39/70\n",
      "1611/1611 [==============================] - ETA: 0s - loss: 0.5022 - accuracy: 0.8539\n",
      "Epoch 39: loss improved from 0.50804 to 0.50216, saving model to next_words.h5\n",
      "1611/1611 [==============================] - 756s 469ms/step - loss: 0.5022 - accuracy: 0.8539\n",
      "Epoch 40/70\n",
      "1611/1611 [==============================] - ETA: 0s - loss: 0.4795 - accuracy: 0.8579\n",
      "Epoch 40: loss improved from 0.50216 to 0.47951, saving model to next_words.h5\n",
      "1611/1611 [==============================] - 751s 466ms/step - loss: 0.4795 - accuracy: 0.8579\n",
      "Epoch 41/70\n",
      "1611/1611 [==============================] - ETA: 0s - loss: 0.4739 - accuracy: 0.8595\n",
      "Epoch 41: loss improved from 0.47951 to 0.47387, saving model to next_words.h5\n",
      "1611/1611 [==============================] - 751s 466ms/step - loss: 0.4739 - accuracy: 0.8595\n",
      "Epoch 42/70\n",
      "1611/1611 [==============================] - ETA: 0s - loss: 0.4615 - accuracy: 0.8601\n",
      "Epoch 42: loss improved from 0.47387 to 0.46150, saving model to next_words.h5\n",
      "1611/1611 [==============================] - 752s 467ms/step - loss: 0.4615 - accuracy: 0.8601\n",
      "Epoch 43/70\n",
      "1611/1611 [==============================] - ETA: 0s - loss: 0.4523 - accuracy: 0.8623\n",
      "Epoch 43: loss improved from 0.46150 to 0.45228, saving model to next_words.h5\n",
      "1611/1611 [==============================] - 752s 467ms/step - loss: 0.4523 - accuracy: 0.8623\n",
      "Epoch 44/70\n",
      "1611/1611 [==============================] - ETA: 0s - loss: 0.4453 - accuracy: 0.8627\n",
      "Epoch 44: loss improved from 0.45228 to 0.44533, saving model to next_words.h5\n",
      "1611/1611 [==============================] - 750s 466ms/step - loss: 0.4453 - accuracy: 0.8627\n",
      "Epoch 45/70\n",
      "1611/1611 [==============================] - ETA: 0s - loss: 0.4308 - accuracy: 0.8646\n",
      "Epoch 45: loss improved from 0.44533 to 0.43080, saving model to next_words.h5\n",
      "1611/1611 [==============================] - 753s 468ms/step - loss: 0.4308 - accuracy: 0.8646\n",
      "Epoch 46/70\n",
      "1611/1611 [==============================] - ETA: 0s - loss: 0.4249 - accuracy: 0.8651\n",
      "Epoch 46: loss improved from 0.43080 to 0.42493, saving model to next_words.h5\n",
      "1611/1611 [==============================] - 750s 466ms/step - loss: 0.4249 - accuracy: 0.8651\n",
      "Epoch 47/70\n",
      "1611/1611 [==============================] - ETA: 0s - loss: 0.4206 - accuracy: 0.8650\n",
      "Epoch 47: loss improved from 0.42493 to 0.42056, saving model to next_words.h5\n",
      "1611/1611 [==============================] - 751s 466ms/step - loss: 0.4206 - accuracy: 0.8650\n",
      "Epoch 48/70\n",
      "1611/1611 [==============================] - ETA: 0s - loss: 0.4131 - accuracy: 0.8659\n",
      "Epoch 48: loss improved from 0.42056 to 0.41307, saving model to next_words.h5\n",
      "1611/1611 [==============================] - 754s 468ms/step - loss: 0.4131 - accuracy: 0.8659\n",
      "Epoch 49/70\n",
      "1611/1611 [==============================] - ETA: 0s - loss: 0.4092 - accuracy: 0.8661\n",
      "Epoch 49: loss improved from 0.41307 to 0.40922, saving model to next_words.h5\n",
      "1611/1611 [==============================] - 750s 465ms/step - loss: 0.4092 - accuracy: 0.8661\n",
      "Epoch 50/70\n",
      "1611/1611 [==============================] - ETA: 0s - loss: 0.3998 - accuracy: 0.8676\n",
      "Epoch 50: loss improved from 0.40922 to 0.39984, saving model to next_words.h5\n",
      "1611/1611 [==============================] - 751s 466ms/step - loss: 0.3998 - accuracy: 0.8676\n",
      "Epoch 51/70\n",
      "1611/1611 [==============================] - ETA: 0s - loss: 0.3959 - accuracy: 0.8678\n",
      "Epoch 51: loss improved from 0.39984 to 0.39585, saving model to next_words.h5\n",
      "1611/1611 [==============================] - 754s 468ms/step - loss: 0.3959 - accuracy: 0.8678\n",
      "Epoch 52/70\n",
      "1611/1611 [==============================] - ETA: 0s - loss: 0.3939 - accuracy: 0.8678\n",
      "Epoch 52: loss improved from 0.39585 to 0.39394, saving model to next_words.h5\n",
      "1611/1611 [==============================] - 752s 467ms/step - loss: 0.3939 - accuracy: 0.8678\n",
      "Epoch 53/70\n",
      "1611/1611 [==============================] - ETA: 0s - loss: 0.3873 - accuracy: 0.8679\n",
      "Epoch 53: loss improved from 0.39394 to 0.38725, saving model to next_words.h5\n",
      "1611/1611 [==============================] - 753s 467ms/step - loss: 0.3873 - accuracy: 0.8679\n",
      "Epoch 54/70\n",
      "1611/1611 [==============================] - ETA: 0s - loss: 0.3834 - accuracy: 0.8682\n",
      "Epoch 54: loss improved from 0.38725 to 0.38338, saving model to next_words.h5\n",
      "1611/1611 [==============================] - 751s 466ms/step - loss: 0.3834 - accuracy: 0.8682\n",
      "Epoch 55/70\n",
      "1611/1611 [==============================] - ETA: 0s - loss: 0.3783 - accuracy: 0.8688\n",
      "Epoch 55: loss improved from 0.38338 to 0.37826, saving model to next_words.h5\n",
      "1611/1611 [==============================] - 752s 467ms/step - loss: 0.3783 - accuracy: 0.8688\n",
      "Epoch 56/70\n",
      "1611/1611 [==============================] - ETA: 0s - loss: 0.3716 - accuracy: 0.8704\n",
      "Epoch 56: loss improved from 0.37826 to 0.37157, saving model to next_words.h5\n",
      "1611/1611 [==============================] - 754s 468ms/step - loss: 0.3716 - accuracy: 0.8704\n",
      "Epoch 57/70\n",
      " 338/1611 [=====>........................] - ETA: 9:55 - loss: 0.2996 - accuracy: 0.8943"
     ]
    }
   ],
   "source": [
    "from tensorflow.keras.callbacks import ModelCheckpoint\n",
    "\n",
    "checkpoint = ModelCheckpoint(\"next_words.h5\", monitor='loss', verbose=1, save_best_only= True)\n",
    "model.compile(loss=\"categorical_crossentropy\", optimizer= Adam(learning_rate=0.001), metrics=['accuracy'])\n",
    "model.fit(X,y, epochs=70, batch_size=64 , callbacks=[checkpoint])"
   ]
  },
  {
   "cell_type": "code",
   "execution_count": null,
   "id": "85881db5",
   "metadata": {},
   "outputs": [],
   "source": [
    "#PREDICTION\n",
    "\n",
    "from tensorflow.keras.models import load_model\n",
    "import numpy as np\n",
    "import pickle\n",
    "\n",
    "#Load the model and tokenizer\n",
    "\n",
    "model = load_model('next_words.h5')\n",
    "tokenizer= pickle.load(open('token.pkl',  'rb'))\n",
    "\n",
    "def Predict_Next_Words(model, tokenizer, text):\n",
    "    \n",
    "    sequence = tokenizer.texts_to_sequences([text])\n",
    "    sequence = np.array(sequence)\n",
    "    preds = np.argmax(model.predict(sequence))\n",
    "    predicted_word = \"\"\n",
    "    \n",
    "    for key, value in tokenizer.word_index.items():\n",
    "        if value == preds:\n",
    "            predicted_word = key\n",
    "            break\n",
    "    \n",
    "    print(predicted_word)\n",
    "    return predicted_word\n"
   ]
  },
  {
   "cell_type": "code",
   "execution_count": null,
   "id": "06476c12",
   "metadata": {},
   "outputs": [],
   "source": [
    "while(True):\n",
    "    text = input(\"Enter your line: \")\n",
    "    \n",
    "    if text == \"0\":\n",
    "        print(\"Executuion completed.....\")\n",
    "        break\n",
    "    else:\n",
    "        try:\n",
    "            text = text.split(\" \")\n",
    "            text = text[-3:]\n",
    "            print(text)\n",
    "            \n",
    "            Predict_Next_Words(model, tokenizer,  text)\n",
    "            \n",
    "        except Exception as e:\n",
    "            print(\"Error occurred: \",e)\n",
    "            continue"
   ]
  }
 ],
 "metadata": {
  "kernelspec": {
   "display_name": "Python 3 (ipykernel)",
   "language": "python",
   "name": "python3"
  },
  "language_info": {
   "codemirror_mode": {
    "name": "ipython",
    "version": 3
   },
   "file_extension": ".py",
   "mimetype": "text/x-python",
   "name": "python",
   "nbconvert_exporter": "python",
   "pygments_lexer": "ipython3",
   "version": "3.11.7"
  }
 },
 "nbformat": 4,
 "nbformat_minor": 5
}
